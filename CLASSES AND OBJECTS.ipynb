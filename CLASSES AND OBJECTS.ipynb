{
 "cells": [
  {
   "cell_type": "code",
   "execution_count": 1,
   "metadata": {},
   "outputs": [],
   "source": [
    "class Myclass:\n",
    "    x=5"
   ]
  },
  {
   "cell_type": "code",
   "execution_count": 2,
   "metadata": {},
   "outputs": [
    {
     "name": "stdout",
     "output_type": "stream",
     "text": [
      "<class '__main__.Myclass'>\n"
     ]
    }
   ],
   "source": [
    "print(Myclass)"
   ]
  },
  {
   "cell_type": "code",
   "execution_count": 3,
   "metadata": {},
   "outputs": [
    {
     "name": "stdout",
     "output_type": "stream",
     "text": [
      "5\n"
     ]
    }
   ],
   "source": [
    "p1=Myclass()\n",
    "print(p1.x)"
   ]
  },
  {
   "cell_type": "code",
   "execution_count": 4,
   "metadata": {},
   "outputs": [],
   "source": [
    "class Person:\n",
    "    def __init__(self, name, age):\n",
    "        self.name=name\n",
    "        self.age= age\n",
    "    \n",
    "    def myfunc(self):\n",
    "        print(' hello my name is'+ self.name)\n"
   ]
  },
  {
   "cell_type": "code",
   "execution_count": 5,
   "metadata": {},
   "outputs": [],
   "source": [
    "p1=Person(' juanito', 52)"
   ]
  },
  {
   "cell_type": "code",
   "execution_count": 6,
   "metadata": {},
   "outputs": [
    {
     "name": "stdout",
     "output_type": "stream",
     "text": [
      " juanito 52\n"
     ]
    }
   ],
   "source": [
    "print(p1.name, p1.age)"
   ]
  },
  {
   "cell_type": "code",
   "execution_count": 7,
   "metadata": {},
   "outputs": [
    {
     "name": "stdout",
     "output_type": "stream",
     "text": [
      " hello my name is juanito\n"
     ]
    }
   ],
   "source": [
    "p1.myfunc()"
   ]
  },
  {
   "cell_type": "code",
   "execution_count": 8,
   "metadata": {},
   "outputs": [],
   "source": [
    "p1.age=333"
   ]
  },
  {
   "cell_type": "code",
   "execution_count": 9,
   "metadata": {},
   "outputs": [
    {
     "name": "stdout",
     "output_type": "stream",
     "text": [
      " juanito 333\n"
     ]
    }
   ],
   "source": [
    "print(p1.name, p1.age)"
   ]
  },
  {
   "cell_type": "code",
   "execution_count": 10,
   "metadata": {},
   "outputs": [],
   "source": [
    "from numpy import pi, sqrt"
   ]
  },
  {
   "cell_type": "code",
   "execution_count": 11,
   "metadata": {},
   "outputs": [],
   "source": [
    "class circle:\n",
    "    def __init__(self,cx, cy, r):\n",
    "        self.cx = cx\n",
    "        self.cy= cy\n",
    "        self.r = r\n",
    "        \n",
    "    def area(self):\n",
    "        return (self.r)**2 * pi"
   ]
  },
  {
   "cell_type": "code",
   "execution_count": 12,
   "metadata": {},
   "outputs": [],
   "source": [
    "class Figura(object):\n",
    "    valor1 = None\n",
    "    valor2 = None\n",
    "    \n",
    "    def __init__(self, valor1, valor2):\n",
    "        self.valor1 = valor1\n",
    "        self.valor2 = valor2\n",
    "        \n",
    "    def area(self):\n",
    "        print(' area no definida ')\n",
    "        \n",
    "    def perimetre(self):\n",
    "        print ( 'perimetro no definido')\n",
    "\n",
    "        \n",
    "class Rectangulo(Figura):\n",
    "    \n",
    "    def __init__(self, valor1, valor2):\n",
    "                super(Rectangulo,self).__init__(valor1, valor2)\n",
    "    \n",
    "    def area(self):\n",
    "        areaRectangulo= self.valor1 *self.valor2\n",
    "        print(' artea del rectangle es' + str(areaRectangulo))\n",
    "        return areaRectangulo\n",
    "    \n",
    "    def perimetre(self):\n",
    "        perimetrerectangle= 2 * self.valor1 + 2 * self.valor2\n",
    "        print( 'perimetre del rectangle es'+ str(perimetrerectangle))\n",
    "        return perimetrerectangle\n",
    "    \n",
    "class Triangle:\n",
    "    base=None\n",
    "    altura=None\n",
    "    def __init__(self, valor1, valor2):\n",
    "        self.valor1 = valor1\n",
    "        self.valor2 = valor2\n",
    "  \n",
    "    base=None\n",
    "    altura=None\n",
    "    \n",
    "    def __init__(self, valor1, valor2, base, altura):\n",
    "        super(Triangle, self).__init__(valor1, valor2)\n",
    "        self.base=base\n",
    "        self.altura=altura\n",
    "        \n",
    "    def area( self):\n",
    "        areatriangle=(self.base*self.altura)/2\n",
    "        print(' area del triangle es'+str(aretriangle))\n",
    "        return areatriangle\n",
    "    \n",
    "    def perimetre(self):\n",
    "        perimetretriangle=(self.valor1 + self.valor2 + self.base)\n",
    "        print(' perimetre traingle es'+ str(perimetretriangle))\n",
    "        return perimetretriangle"
   ]
  },
  {
   "cell_type": "code",
   "execution_count": 46,
   "metadata": {},
   "outputs": [],
   "source": [
    "class Triangle:\n",
    "    base=None\n",
    "    altura=None\n",
    " \n",
    "\n",
    "    \n",
    "    def __init__(self, valor1, valor2, base, altura, price):\n",
    "        self.valor1 = valor1\n",
    "        self.valor2 = valor2\n",
    "        self.base   = base\n",
    "        self.altura = altura\n",
    "        self.price=price\n",
    "        \n",
    "    def area( self):\n",
    "        areatriangle=(self.base*self.altura)/2\n",
    "        print(' area del triangle es'+str(areatriangle))\n",
    "        return areatriangle\n",
    "    \n",
    "    def perimetre(self):\n",
    "        perimetretriangle=(self.valor1 + self.valor2 + self.base)\n",
    "        print(' perimetre traingle es'+ str(perimetretriangle))\n",
    "        return perimetretriangle\n",
    "    \n",
    "   "
   ]
  },
  {
   "cell_type": "code",
   "execution_count": 47,
   "metadata": {},
   "outputs": [],
   "source": [
    "t=Triangle(1,13,43,4444,4)\n",
    "\n"
   ]
  },
  {
   "cell_type": "code",
   "execution_count": null,
   "metadata": {},
   "outputs": [],
   "source": []
  },
  {
   "cell_type": "code",
   "execution_count": 23,
   "metadata": {},
   "outputs": [
    {
     "name": "stdout",
     "output_type": "stream",
     "text": [
      " perimetre traingle es57\n"
     ]
    },
    {
     "data": {
      "text/plain": [
       "57"
      ]
     },
     "execution_count": 23,
     "metadata": {},
     "output_type": "execute_result"
    }
   ],
   "source": [
    "t.perimetre()"
   ]
  },
  {
   "cell_type": "code",
   "execution_count": 24,
   "metadata": {},
   "outputs": [
    {
     "name": "stdout",
     "output_type": "stream",
     "text": [
      " area del triangle es95546.0\n"
     ]
    },
    {
     "data": {
      "text/plain": [
       "95546.0"
      ]
     },
     "execution_count": 24,
     "metadata": {},
     "output_type": "execute_result"
    }
   ],
   "source": [
    "t.area()"
   ]
  },
  {
   "cell_type": "code",
   "execution_count": null,
   "metadata": {},
   "outputs": [],
   "source": [
    "print(Triangle(1,2,3,4))"
   ]
  },
  {
   "cell_type": "code",
   "execution_count": null,
   "metadata": {},
   "outputs": [],
   "source": []
  },
  {
   "cell_type": "code",
   "execution_count": null,
   "metadata": {},
   "outputs": [],
   "source": [
    "#crear objectes\n",
    "\n",
    "objecte1=Figura(20, 10)\n",
    "objecte2=Rectangulo(9,5)\n",
    "objecte3=Triangle(10,8,5,8)"
   ]
  },
  {
   "cell_type": "code",
   "execution_count": null,
   "metadata": {},
   "outputs": [],
   "source": [
    "objecte2.perimetre()"
   ]
  },
  {
   "cell_type": "code",
   "execution_count": null,
   "metadata": {},
   "outputs": [],
   "source": [
    "objecte1.perimetre()"
   ]
  },
  {
   "cell_type": "code",
   "execution_count": 55,
   "metadata": {},
   "outputs": [],
   "source": [
    "class Time:\n",
    "\n",
    "    def __init__(self,hour,minute,second):\n",
    "        hour=None\n",
    "        minutes=None\n",
    "        second=None\n",
    "        \n",
    "        self.hour=x\n",
    "        self.minute=y\n",
    "        self.second=z\n",
    "\n",
    "    def __str__(self):\n",
    "        return \"({:02d}:{:02d}:{:02d})\".format(self.hour, self.minute, self.second)\n",
    "\n",
    "    def time_to_int(time):\n",
    "        minutes=time.hour*60+time.minute\n",
    "        seconds=minutes*60+time.second\n",
    "        return seconds\n",
    "\n",
    "    def int_to_time(seconds):\n",
    "        time=Time()\n",
    "        minutes,time.second=divmod(seconds,60)\n",
    "        time.hour,time.minute=divmod(minutes,60)\n",
    "        return time\n",
    "\n",
    "    def add_time(t1,t2):\n",
    "        seconds=time_to_int(t1)+time_to_int(t2)\n",
    "        return int_to"
   ]
  },
  {
   "cell_type": "code",
   "execution_count": 56,
   "metadata": {},
   "outputs": [
    {
     "ename": "TypeError",
     "evalue": "__init__() missing 3 required positional arguments: 'hour', 'minute', and 'second'",
     "output_type": "error",
     "traceback": [
      "\u001b[0;31m---------------------------------------------------------------------------\u001b[0m",
      "\u001b[0;31mTypeError\u001b[0m                                 Traceback (most recent call last)",
      "\u001b[0;32m<ipython-input-56-2a06adbade91>\u001b[0m in \u001b[0;36m<module>\u001b[0;34m\u001b[0m\n\u001b[0;32m----> 1\u001b[0;31m \u001b[0mTimeObject\u001b[0m \u001b[0;34m=\u001b[0m \u001b[0mTime\u001b[0m\u001b[0;34m(\u001b[0m\u001b[0;34m)\u001b[0m\u001b[0;34m\u001b[0m\u001b[0;34m\u001b[0m\u001b[0m\n\u001b[0m\u001b[1;32m      2\u001b[0m \u001b[0mstart\u001b[0m\u001b[0;34m=\u001b[0m\u001b[0mTime\u001b[0m\u001b[0;34m(\u001b[0m\u001b[0;36m9\u001b[0m\u001b[0;34m,\u001b[0m\u001b[0;36m45\u001b[0m\u001b[0;34m,\u001b[0m\u001b[0;36m00\u001b[0m\u001b[0;34m)\u001b[0m\u001b[0;34m\u001b[0m\u001b[0;34m\u001b[0m\u001b[0m\n\u001b[1;32m      3\u001b[0m \u001b[0mrunning\u001b[0m\u001b[0;34m=\u001b[0m\u001b[0mTime\u001b[0m\u001b[0;34m(\u001b[0m\u001b[0;36m1\u001b[0m\u001b[0;34m,\u001b[0m\u001b[0;36m35\u001b[0m\u001b[0;34m,\u001b[0m\u001b[0;36m00\u001b[0m\u001b[0;34m)\u001b[0m\u001b[0;34m\u001b[0m\u001b[0;34m\u001b[0m\u001b[0m\n\u001b[1;32m      4\u001b[0m \u001b[0mTimeObject\u001b[0m\u001b[0;34m.\u001b[0m\u001b[0madd_time\u001b[0m\u001b[0;34m(\u001b[0m\u001b[0mstart\u001b[0m\u001b[0;34m,\u001b[0m\u001b[0mrunning\u001b[0m\u001b[0;34m)\u001b[0m\u001b[0;34m\u001b[0m\u001b[0;34m\u001b[0m\u001b[0m\n\u001b[1;32m      5\u001b[0m \u001b[0mprint\u001b[0m \u001b[0;34m(\u001b[0m\u001b[0;34m\"done\"\u001b[0m\u001b[0;34m)\u001b[0m\u001b[0;34m\u001b[0m\u001b[0;34m\u001b[0m\u001b[0m\n",
      "\u001b[0;31mTypeError\u001b[0m: __init__() missing 3 required positional arguments: 'hour', 'minute', and 'second'"
     ]
    }
   ],
   "source": [
    "TimeObject = Time()\n",
    "start=Time(9,45,00)\n",
    "running=Time(1,35,00)\n",
    "TimeObject.add_time(start,running)\n",
    "print (\"done\")"
   ]
  },
  {
   "cell_type": "code",
   "execution_count": null,
   "metadata": {},
   "outputs": [],
   "source": []
  },
  {
   "cell_type": "code",
   "execution_count": null,
   "metadata": {},
   "outputs": [],
   "source": []
  }
 ],
 "metadata": {
  "kernelspec": {
   "display_name": "Python 3 (ipykernel)",
   "language": "python",
   "name": "python3"
  },
  "language_info": {
   "codemirror_mode": {
    "name": "ipython",
    "version": 3
   },
   "file_extension": ".py",
   "mimetype": "text/x-python",
   "name": "python",
   "nbconvert_exporter": "python",
   "pygments_lexer": "ipython3",
   "version": "3.7.3"
  }
 },
 "nbformat": 4,
 "nbformat_minor": 2
}
